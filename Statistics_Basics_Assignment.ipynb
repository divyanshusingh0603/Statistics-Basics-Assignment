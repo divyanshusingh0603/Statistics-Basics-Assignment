{
  "nbformat": 4,
  "nbformat_minor": 0,
  "metadata": {
    "colab": {
      "provenance": []
    },
    "kernelspec": {
      "name": "python3",
      "display_name": "Python 3"
    },
    "language_info": {
      "name": "python"
    }
  },
  "cells": [
    {
      "cell_type": "markdown",
      "source": [
        "#Assignment Code: DS-AG-005\n"
      ],
      "metadata": {
        "id": "gCU4_Nd_zKZ-"
      }
    },
    {
      "cell_type": "markdown",
      "source": [
        "#Question 1: What is the difference between descriptive statistics and inferential statistics? Explain with examples.\n"
      ],
      "metadata": {
        "id": "lFMHW-xRU4Rt"
      }
    },
    {
      "cell_type": "markdown",
      "source": [
        "#Answer :-\n",
        "#Descriptive Statistics\n",
        "\n",
        "**Definition:**\n",
        "\n",
        " Descriptive statistics summarize and organize characteristics of a data set. They describe what the data shows, without making predictions or generalizations beyond the data.\n",
        "\n",
        " **Key Features:**\n",
        "- Focuses on raw data you already have\n",
        "- Uses measures like mean, median, mode, standard deviation, range\n",
        "- Often visualized using charts, tables, histograms, pie charts\n",
        "\n",
        "\n",
        "**Example:**\n",
        "\n",
        " Suppose you analyze employee performance scores for 100 staff members in an HR dataset.\n",
        "- Mean score = 78\n",
        "- Standard deviation = 5.2\n",
        "- Histogram shows most scores are between 75–85\n",
        "\n",
        "This is descriptive—it tells you what’s happening in your sample.\n",
        "\n",
        "#Inferential Statistics\n",
        "\n",
        "**Definition:**\n",
        "\n",
        " Inferential statistics use sample data to make predictions or generalizations about a larger population. It involves probability theory and hypothesis testing.\n",
        "\n",
        "**Key Features:**\n",
        "\n",
        "- Draws conclusions beyond the data\n",
        "- Uses techniques like confidence intervals, regression, hypothesis testing, ANOVA\n",
        "- Requires assumptions about the population\n",
        "\n",
        "**Example:**\n",
        "\n",
        "You want to know if a new training program improves performance across the company.\n",
        "- You test it on a sample of 50 employees\n",
        "- Use a t-test to compare their scores with those who didn’t receive training\n",
        "- If p-value < 0.05, you infer the training likely improves performance for the entire workforce\n",
        "\n",
        "\n"
      ],
      "metadata": {
        "id": "zQVTLT05VpEr"
      }
    },
    {
      "cell_type": "markdown",
      "source": [
        "#Question 2: What is sampling in statistics? Explain the differences between random and stratified sampling."
      ],
      "metadata": {
        "id": "co49WpRHX8qr"
      }
    },
    {
      "cell_type": "markdown",
      "source": [
        "#Answer:-\n",
        "\n",
        "Sampling is the process of selecting a subset (sample) from a larger group (population) to analyze and draw conclusions. Since studying an entire population is often impractical, sampling helps you make informed decisions efficiently.\n",
        "\n",
        "**Example:**\n",
        "\n",
        " If you're analyzing employee satisfaction across a company of 5,000 people, you might survey 300 employees instead of all 5,000. That 300 is your sample.\n",
        "\n",
        " **Difference between random and stratified sampling:**\n",
        "\n",
        "Simple random sampling selects a sample from the entire population where every individual has an equal chance of being chosen, whereas stratified sampling divides the population into homogeneous subgroups (strata) and then randomly samples from each stratum to ensure all subgroups are represented in proportion to their size in the overall population.\n",
        "\n"
      ],
      "metadata": {
        "id": "c4Z8N6QuYPro"
      }
    },
    {
      "cell_type": "markdown",
      "source": [
        "#Question 3: Define mean, median, and mode. Explain why these measures of central tendency are important."
      ],
      "metadata": {
        "id": "PcD5n7TcZS84"
      }
    },
    {
      "cell_type": "markdown",
      "source": [
        "#Answer:-\n",
        "\n",
        "**Definitions of Mean, Median, and Mode**\n",
        "\n",
        "**Mean:** The arithmetic mean is found by summing all the numbers in a dataset and dividing by the total count of numbers.\n",
        "\n",
        "**Median:** The median is the middle value in a dataset that has been ordered from smallest to largest. If there is an even number of data points, the median is the average of the two middle values.\n",
        "\n",
        "**Mode:** The mode is the value that appears most often in a dataset. A dataset can have more than one mode or no mode at all.\n",
        "\n",
        "**Why these measures of central tendency are important?**\n",
        "\n",
        "These measures are important because they provide a single, representative value for a dataset, making complex data easier to summarize, understand, and compare, thereby aiding in decision-making and pattern recognition."
      ],
      "metadata": {
        "id": "JlIm43UxZknG"
      }
    },
    {
      "cell_type": "markdown",
      "source": [
        "#Question 4:  Explain skewness and kurtosis. What does a positive skew imply about the data?"
      ],
      "metadata": {
        "id": "p0mxuBDIdut9"
      }
    },
    {
      "cell_type": "markdown",
      "source": [
        "#Answer:-\n",
        "\n",
        "Skewness measures a distribution's asymmetry (how uneven it is), while kurtosis measures its tailedness (how heavy or light the tails are compared to a normal distribution) and peak sharpness.\n",
        "\n",
        "A positive skew implies the data has a longer tail on the right, with the mean being pulled higher than the median due to a few very large values."
      ],
      "metadata": {
        "id": "d4_iyJ3GhUQ2"
      }
    },
    {
      "cell_type": "markdown",
      "source": [
        "#Question 5: Implement a Python program to compute the mean, median, and mode of a given list of numbers.\n",
        "\n",
        "#numbers = [12, 15, 12, 18, 19, 12, 20, 22, 19, 19, 24, 24, 24, 26, 28]\n",
        "\n",
        "**(Include your Python code and output in the code box below.)**\n",
        "\n",
        "#Answer:-"
      ],
      "metadata": {
        "id": "P00u6R3uh1y7"
      }
    },
    {
      "cell_type": "code",
      "source": [
        "import statistics\n",
        "\n",
        "numbers = [12, 15, 12, 18, 19, 12, 20, 22, 19, 19, 24, 24, 24, 26, 28]\n",
        "\n",
        "mean = statistics.mean(numbers)\n",
        "median = statistics.median(numbers)\n",
        "mode= statistics.mode(numbers)\n",
        "\n",
        "print(\"Mean:\", mean)\n",
        "print(\"Median:\", median)\n",
        "print(\"Mode:\", mode)"
      ],
      "metadata": {
        "colab": {
          "base_uri": "https://localhost:8080/"
        },
        "id": "Net3rA2PZKQy",
        "outputId": "daed9343-ae53-4c06-973c-2b6f8f910b49"
      },
      "execution_count": 3,
      "outputs": [
        {
          "output_type": "stream",
          "name": "stdout",
          "text": [
            "Mean: 19.6\n",
            "Median: 19\n",
            "Mode: 12\n"
          ]
        }
      ]
    },
    {
      "cell_type": "markdown",
      "source": [
        "#Question 6: Compute the covariance and correlation coefficient between the following two datasets provided as lists in Python:\n",
        "\n",
        "#list_x = [10, 20, 30, 40, 50]\n",
        "\n",
        "#list_y = [15, 25, 35, 45, 60]\n",
        "\n",
        "**(Include your Python code and output in the code box below.)**\n",
        "\n",
        "#Answer:-"
      ],
      "metadata": {
        "id": "HPHSX2WEkH-9"
      }
    },
    {
      "cell_type": "code",
      "source": [
        "import numpy as np\n",
        "import statistics\n",
        "\n",
        "list_x = [10, 20, 30, 40, 50]\n",
        "list_y = [15, 25, 35, 45, 60]\n",
        "\n",
        "#coverting list_x, list_y into arrays.\n",
        "x = np.array(list_x)\n",
        "y = np.array(list_y)\n",
        "\n",
        "covariance = statistics.covariance(x, y)\n",
        "correlation_coefficient = np.corrcoef(x, y)[0, 1]\n",
        "\n",
        "print(\"Covariance:\", covariance)\n",
        "print(\"Correlation Coefficient:\", correlation_coefficient)"
      ],
      "metadata": {
        "colab": {
          "base_uri": "https://localhost:8080/"
        },
        "id": "brSnXxoMj3rz",
        "outputId": "6787d408-4ca6-4fca-b272-f6f9a1cc88ff"
      },
      "execution_count": 9,
      "outputs": [
        {
          "output_type": "stream",
          "name": "stdout",
          "text": [
            "Covariance: 275.0\n",
            "Correlation Coefficient: 0.995893206467704\n"
          ]
        }
      ]
    },
    {
      "cell_type": "markdown",
      "source": [
        "#Question 7: Write a Python script to draw a boxplot for the following numeric list and identify its outliers. Explain the result:\n",
        "\n",
        "#data = [12, 14, 14, 15, 18, 19, 19, 21, 22, 22, 23, 23, 24, 26, 29, 35]\n",
        "\n",
        "**(Include your Python code and output in the code box below.)**\n",
        "\n",
        "#Answer:-"
      ],
      "metadata": {
        "id": "J1y_zZAfpSME"
      }
    },
    {
      "cell_type": "code",
      "source": [
        "import matplotlib.pyplot as plt\n",
        "import seaborn as sns\n",
        "\n",
        "data = [12, 14, 14, 15, 18, 19, 19, 21, 22, 22, 23, 23, 24, 26, 29, 35]\n",
        "\n",
        "sns.boxplot(data=data)\n",
        "plt.title(\"Boxplot of given data\")\n",
        "plt.xlabel(\"Values\")\n",
        "plt.show()"
      ],
      "metadata": {
        "colab": {
          "base_uri": "https://localhost:8080/",
          "height": 458
        },
        "id": "GNobHUTOmMRe",
        "outputId": "44782c3d-2071-4aad-fe0f-44e2d9a66517"
      },
      "execution_count": 10,
      "outputs": [
        {
          "output_type": "display_data",
          "data": {
            "text/plain": [
              "<Figure size 640x480 with 1 Axes>"
            ],
            "image/png": "[encoded data removed]"
          },
          "metadata": {}
        }
      ]
    },
    {
      "cell_type": "markdown",
      "source": [
        "**The boxplot will visually show:**\n",
        "\n",
        "- Box: Interquartile range (IQR) from Q1 to Q3\n",
        "- Line inside box: Median\n",
        "- Whiskers: Extend to values within 1.5×IQR\n",
        "- Dots beyond whiskers: Outliers\n",
        "\n",
        "**Interpretation:**\n",
        "\n",
        "- Median: Around 22–23\n",
        "- IQR: Q1 ≈ 18, Q3 ≈ 24 → IQR = 6\n",
        "- Outlier threshold:\n",
        "- Lower bound = Q1 − 1.5×IQR = 18 − 9 = 9\n",
        "- Upper bound = Q3 + 1.5×IQR = 24 + 9 = 33\n",
        "- Outlier: 35 is above 33 → outlier\n",
        "\n",
        "**Result:**\n",
        "\n",
        "The boxplot reveals that 35 is an outlier, suggesting one unusually high value compared to the rest of the dataset.\n"
      ],
      "metadata": {
        "id": "6j38FnzvqX7r"
      }
    },
    {
      "cell_type": "markdown",
      "source": [
        "#Question 8:  You are working as a data analyst in an e-commerce company. The marketing team wants to know if there is a relationship between advertising spend and daily sales.\n",
        "\n",
        "**● Explain how you would use covariance and correlation to explore this relationship.**\n",
        "\n",
        "**● Write Python code to compute the correlation between the two lists:**\n",
        "\n",
        "**advertising_spend = [200, 250, 300, 400, 500]**\n",
        "\n",
        "**daily_sales = [2200, 2450, 2750, 3200, 4000]**\n",
        "\n",
        "**(Include your Python code and output in the code box below.)**\n",
        "\n",
        "#Answer:-"
      ],
      "metadata": {
        "id": "Z5Jmm_QXreW0"
      }
    },
    {
      "cell_type": "markdown",
      "source": [
        "**How to Use Covariance and Correlation**\n",
        "\n",
        "To explore the relationship between advertising spend and daily sales, you can use:\n",
        "\n",
        "**Covariance**\n",
        "\n",
        "- Measures the direction of the relationship.\n",
        "- Positive covariance → both variables increase together.\n",
        "- Negative covariance → one increases while the other decreases.\n",
        "- Limitation: Doesn’t tell you the strength or scale of the relationship.\n",
        "\n",
        "**Correlation Coefficient**\n",
        "\n",
        "- Measures both direction and strength of the relationship.\n",
        "- Ranges from −1 to +1:\n",
        "- +1 → perfect positive correlation\n",
        "- 0 → no correlation\n",
        "- −1 → perfect negative correlation\n",
        "- Scale-independent, so it's more interpretable.\n"
      ],
      "metadata": {
        "id": "BgHiF-qAsXvK"
      }
    },
    {
      "cell_type": "code",
      "source": [
        "import numpy as np\n",
        "\n",
        "# Data\n",
        "advertising_spend = [200, 250, 300, 400, 500]\n",
        "daily_sales = [2200, 2450, 2750, 3200, 4000]\n",
        "\n",
        "# Covariance\n",
        "cov_matrix = np.cov(advertising_spend, daily_sales, ddof=0)\n",
        "covariance = cov_matrix[0, 1]\n",
        "\n",
        "# Correlation\n",
        "correlation_matrix = np.corrcoef(advertising_spend, daily_sales)\n",
        "correlation = correlation_matrix[0, 1]\n",
        "\n",
        "print(\"Covariance:\", covariance)\n",
        "print(\"Correlation:\", correlation)\n"
      ],
      "metadata": {
        "colab": {
          "base_uri": "https://localhost:8080/"
        },
        "id": "qFDQhnmNwaL_",
        "outputId": "c1cd64f7-f69c-40e9-9bb4-e9645c15f9a8"
      },
      "execution_count": 18,
      "outputs": [
        {
          "output_type": "stream",
          "name": "stdout",
          "text": [
            "Covariance: 67900.0\n",
            "Correlation: 0.9935824101653329\n"
          ]
        }
      ]
    },
    {
      "cell_type": "markdown",
      "source": [
        "Interpretation:\n",
        "\n",
        "- The large positive covariance means advertising spend and sales increase together.\n",
        "\n",
        "- The correlation (~0.99) shows a very strong positive linear relationship → more advertising spend strongly drives higher sales."
      ],
      "metadata": {
        "id": "_0J2S0mhw2TW"
      }
    },
    {
      "cell_type": "markdown",
      "source": [
        "#Question 9:Your team has collected customer satisfaction survey data on a scale of 1-10 and wants to understand its distribution before launching a new product.\n",
        "\n",
        "**● Explain which summary statistics and visualizations (e.g. mean, standard deviation, histogram) you’d use.**\n",
        "\n",
        "**● Write Python code to create a histogram using Matplotlib for the survey data:**\n",
        "\n",
        "**survey_scores = [7, 8, 5, 9, 6, 7, 8, 9, 10, 4, 7, 6, 9, 8, 7]**\n",
        "\n",
        "**(Include your Python code and output in the code box below.)**\n",
        "\n",
        "#Answer:-\n",
        "\n"
      ],
      "metadata": {
        "id": "f_bbVEiLxMkG"
      }
    },
    {
      "cell_type": "markdown",
      "source": [
        "**1. Explanation**\n",
        "\n",
        "To understand the distribution of customer satisfaction scores (1–10 scale) before launching a new product, we should use:\n",
        "\n",
        "**Summary Statistics**\n",
        "\n",
        "**i.)** Mean (Average): Gives the central tendency of satisfaction.\n",
        "\n",
        "**ii.)** Median: Useful if the data is skewed.\n",
        "\n",
        "**iii.)** Mode: Shows the most common score.\n",
        "\n",
        "**iv.)** Standard Deviation (SD): Measures variability (how spread out the scores are).\n",
        "\n",
        "**v.)** Minimum & Maximum: To see the range of responses.\n",
        "\n",
        "**Visualizations**\n",
        "\n",
        "**i.)** Histogram: Shows the frequency distribution of scores.\n",
        "\n",
        "**ii.)** Boxplot (optional): Highlights spread, median, and potential outliers.\n",
        "\n",
        "**iii.)** Bar chart of counts: If you want to see exact frequencies for each score."
      ],
      "metadata": {
        "id": "Q3CV70MCx2Or"
      }
    },
    {
      "cell_type": "code",
      "source": [
        "import matplotlib.pyplot as plt\n",
        "import numpy as np\n",
        "\n",
        "# Survey data\n",
        "survey_scores = [7, 8, 5, 9, 6, 7, 8, 9, 10, 4, 7, 6, 9, 8, 7]\n",
        "\n",
        "# Summary statistics\n",
        "mean_score = np.mean(survey_scores)\n",
        "median_score = np.median(survey_scores)\n",
        "std_dev = np.std(survey_scores)\n",
        "\n",
        "print(\"Mean:\", mean_score)\n",
        "print(\"Median:\", median_score)\n",
        "print(\"Standard Deviation:\", std_dev)\n",
        "\n",
        "# Histogram\n",
        "plt.hist(survey_scores, bins=6, color='skyblue', edgecolor='black')\n",
        "plt.title(\"Distribution of Customer Satisfaction Scores\")\n",
        "plt.xlabel(\"Survey Score (1-10)\")\n",
        "plt.ylabel(\"Frequency\")\n",
        "plt.show()\n"
      ],
      "metadata": {
        "colab": {
          "base_uri": "https://localhost:8080/",
          "height": 524
        },
        "id": "2tY0h1B_wnez",
        "outputId": "f2e19aa3-2719-43f0-f4e0-67aa41c5dfe9"
      },
      "execution_count": 19,
      "outputs": [
        {
          "output_type": "stream",
          "name": "stdout",
          "text": [
            "Mean: 7.333333333333333\n",
            "Median: 7.0\n",
            "Standard Deviation: 1.577621275493231\n"
          ]
        },
        {
          "output_type": "display_data",
          "data": {
            "text/plain": [
              "<Figure size 640x480 with 1 Axes>"
            ],
            "image/png": "[encoded data removed]"
          },
          "metadata": {}
        }
      ]
    },
    {
      "cell_type": "markdown",
      "source": [
        "Histogram:\n",
        "\n",
        "- Most responses cluster around 7–9.\n",
        "\n",
        "- Few responses at the low end (like 4 or 5).\n",
        "\n",
        "- Indicates customers are generally satisfied (leaning toward higher scores)."
      ],
      "metadata": {
        "id": "9_flNPj4y2hp"
      }
    }
  ]
}